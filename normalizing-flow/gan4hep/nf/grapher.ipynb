{
 "cells": [
  {
   "cell_type": "code",
   "execution_count": 1,
   "metadata": {},
   "outputs": [
    {
     "name": "stdout",
     "output_type": "stream",
     "text": [
      "[PhysicalDevice(name='/physical_device:GPU:0', device_type='GPU')]\n"
     ]
    }
   ],
   "source": [
    "import tensorflow as tf\n",
    "print(tf.config.list_physical_devices('GPU'))"
   ]
  },
  {
   "cell_type": "code",
   "execution_count": 2,
   "metadata": {},
   "outputs": [
    {
     "ename": "KeyboardInterrupt",
     "evalue": "",
     "output_type": "error",
     "traceback": [
      "\u001b[0;31m---------------------------------------------------------------------------\u001b[0m",
      "\u001b[0;31mKeyboardInterrupt\u001b[0m                         Traceback (most recent call last)",
      "\u001b[0;32m/tmp/ipykernel_1982497/987126673.py\u001b[0m in \u001b[0;36m<module>\u001b[0;34m\u001b[0m\n\u001b[1;32m      4\u001b[0m \u001b[0mout_branch_names\u001b[0m \u001b[0;34m=\u001b[0m \u001b[0;34m[\u001b[0m\u001b[0;34m\"particle_id\"\u001b[0m\u001b[0;34m,\u001b[0m \u001b[0;34m\"particle_E\"\u001b[0m\u001b[0;34m,\u001b[0m \u001b[0;34m\"particle_px\"\u001b[0m\u001b[0;34m,\u001b[0m \u001b[0;34m\"particle_py\"\u001b[0m\u001b[0;34m,\u001b[0m \u001b[0;34m\"particle_pz\"\u001b[0m\u001b[0;34m]\u001b[0m\u001b[0;34m\u001b[0m\u001b[0;34m\u001b[0m\u001b[0m\n\u001b[1;32m      5\u001b[0m \u001b[0min_branch_names\u001b[0m \u001b[0;34m=\u001b[0m \u001b[0;34m[\u001b[0m\u001b[0;34m'incoming'\u001b[0m\u001b[0;34m]\u001b[0m\u001b[0;34m\u001b[0m\u001b[0;34m\u001b[0m\u001b[0m\n\u001b[0;32m----> 6\u001b[0;31m preprocess.read_data_root_hadronic(file_name, tree_name, out_branch_names, \n\u001b[0m\u001b[1;32m      7\u001b[0m                                                                  in_branch_names=in_branch_names, test_frac=0.01, val_frac=0.01)\n",
      "\u001b[0;32m/global/u2/c/curtis/code/clean/ForHadronic/normalizing-flow/gan4hep/nf/preprocess.py\u001b[0m in \u001b[0;36mread_data_root_hadronic\u001b[0;34m(file_name, tree_name, out_branch_names, in_branch_names, data_branch_names, max_evts, test_frac, val_frac)\u001b[0m\n\u001b[1;32m     35\u001b[0m         \u001b[0min_file\u001b[0m \u001b[0;34m=\u001b[0m \u001b[0muproot\u001b[0m\u001b[0;34m.\u001b[0m\u001b[0mopen\u001b[0m\u001b[0;34m(\u001b[0m\u001b[0mf\u001b[0m\u001b[0;34m)\u001b[0m\u001b[0;34m\u001b[0m\u001b[0;34m\u001b[0m\u001b[0m\n\u001b[1;32m     36\u001b[0m         \u001b[0mtree\u001b[0m \u001b[0;34m=\u001b[0m \u001b[0min_file\u001b[0m\u001b[0;34m[\u001b[0m\u001b[0mtree_name\u001b[0m\u001b[0;34m]\u001b[0m\u001b[0;34m\u001b[0m\u001b[0;34m\u001b[0m\u001b[0m\n\u001b[0;32m---> 37\u001b[0;31m         \u001b[0marray_root\u001b[0m \u001b[0;34m=\u001b[0m \u001b[0mtree\u001b[0m\u001b[0;34m.\u001b[0m\u001b[0marrays\u001b[0m\u001b[0;34m(\u001b[0m\u001b[0mbranch_names\u001b[0m\u001b[0;34m,\u001b[0m \u001b[0mlibrary\u001b[0m\u001b[0;34m=\u001b[0m\u001b[0;34m\"np\"\u001b[0m\u001b[0;34m)\u001b[0m\u001b[0;34m\u001b[0m\u001b[0;34m\u001b[0m\u001b[0m\n\u001b[0m\u001b[1;32m     38\u001b[0m         \u001b[0mdf_root\u001b[0m \u001b[0;34m=\u001b[0m \u001b[0mpd\u001b[0m\u001b[0;34m.\u001b[0m\u001b[0mDataFrame\u001b[0m\u001b[0;34m(\u001b[0m\u001b[0marray_root\u001b[0m\u001b[0;34m)\u001b[0m\u001b[0;34m\u001b[0m\u001b[0;34m\u001b[0m\u001b[0m\n\u001b[1;32m     39\u001b[0m         \u001b[0mdfs\u001b[0m \u001b[0;34m+=\u001b[0m \u001b[0;34m[\u001b[0m\u001b[0mdf_root\u001b[0m\u001b[0;34m]\u001b[0m\u001b[0;34m\u001b[0m\u001b[0;34m\u001b[0m\u001b[0m\n",
      "\u001b[0;32m~/miniconda3/envs/env_gan/lib/python3.8/site-packages/uproot/behaviors/TBranch.py\u001b[0m in \u001b[0;36marrays\u001b[0;34m(self, expressions, cut, filter_name, filter_typename, filter_branch, aliases, language, entry_start, entry_stop, decompression_executor, interpretation_executor, array_cache, library, how)\u001b[0m\n\u001b[1;32m   1134\u001b[0m                         \u001b[0mranges_or_baskets\u001b[0m\u001b[0;34m.\u001b[0m\u001b[0mappend\u001b[0m\u001b[0;34m(\u001b[0m\u001b[0;34m(\u001b[0m\u001b[0mbranch\u001b[0m\u001b[0;34m,\u001b[0m \u001b[0mbasket_num\u001b[0m\u001b[0;34m,\u001b[0m \u001b[0mrange_or_basket\u001b[0m\u001b[0;34m)\u001b[0m\u001b[0;34m)\u001b[0m\u001b[0;34m\u001b[0m\u001b[0;34m\u001b[0m\u001b[0m\n\u001b[1;32m   1135\u001b[0m \u001b[0;34m\u001b[0m\u001b[0m\n\u001b[0;32m-> 1136\u001b[0;31m         _ranges_or_baskets_to_arrays(\n\u001b[0m\u001b[1;32m   1137\u001b[0m             \u001b[0mself\u001b[0m\u001b[0;34m,\u001b[0m\u001b[0;34m\u001b[0m\u001b[0;34m\u001b[0m\u001b[0m\n\u001b[1;32m   1138\u001b[0m             \u001b[0mranges_or_baskets\u001b[0m\u001b[0;34m,\u001b[0m\u001b[0;34m\u001b[0m\u001b[0;34m\u001b[0m\u001b[0m\n",
      "\u001b[0;32m~/miniconda3/envs/env_gan/lib/python3.8/site-packages/uproot/behaviors/TBranch.py\u001b[0m in \u001b[0;36m_ranges_or_baskets_to_arrays\u001b[0;34m(hasbranches, ranges_or_baskets, branchid_interpretation, entry_start, entry_stop, decompression_executor, interpretation_executor, library, arrays, update_ranges_or_baskets)\u001b[0m\n\u001b[1;32m   3499\u001b[0m         \u001b[0;32mif\u001b[0m \u001b[0misinstance\u001b[0m\u001b[0;34m(\u001b[0m\u001b[0mobj\u001b[0m\u001b[0;34m,\u001b[0m \u001b[0muproot\u001b[0m\u001b[0;34m.\u001b[0m\u001b[0msource\u001b[0m\u001b[0;34m.\u001b[0m\u001b[0mchunk\u001b[0m\u001b[0;34m.\u001b[0m\u001b[0mChunk\u001b[0m\u001b[0;34m)\u001b[0m\u001b[0;34m:\u001b[0m\u001b[0;34m\u001b[0m\u001b[0;34m\u001b[0m\u001b[0m\n\u001b[1;32m   3500\u001b[0m             \u001b[0margs\u001b[0m \u001b[0;34m=\u001b[0m \u001b[0mrange_args\u001b[0m\u001b[0;34m[\u001b[0m\u001b[0;34m(\u001b[0m\u001b[0mobj\u001b[0m\u001b[0;34m.\u001b[0m\u001b[0mstart\u001b[0m\u001b[0;34m,\u001b[0m \u001b[0mobj\u001b[0m\u001b[0;34m.\u001b[0m\u001b[0mstop\u001b[0m\u001b[0;34m)\u001b[0m\u001b[0;34m]\u001b[0m\u001b[0;34m\u001b[0m\u001b[0;34m\u001b[0m\u001b[0m\n\u001b[0;32m-> 3501\u001b[0;31m             \u001b[0mdecompression_executor\u001b[0m\u001b[0;34m.\u001b[0m\u001b[0msubmit\u001b[0m\u001b[0;34m(\u001b[0m\u001b[0mchunk_to_basket\u001b[0m\u001b[0;34m,\u001b[0m \u001b[0mobj\u001b[0m\u001b[0;34m,\u001b[0m \u001b[0;34m*\u001b[0m\u001b[0margs\u001b[0m\u001b[0;34m)\u001b[0m\u001b[0;34m\u001b[0m\u001b[0;34m\u001b[0m\u001b[0m\n\u001b[0m\u001b[1;32m   3502\u001b[0m \u001b[0;34m\u001b[0m\u001b[0m\n\u001b[1;32m   3503\u001b[0m         \u001b[0;32melif\u001b[0m \u001b[0misinstance\u001b[0m\u001b[0;34m(\u001b[0m\u001b[0mobj\u001b[0m\u001b[0;34m,\u001b[0m \u001b[0muproot\u001b[0m\u001b[0;34m.\u001b[0m\u001b[0mmodels\u001b[0m\u001b[0;34m.\u001b[0m\u001b[0mTBasket\u001b[0m\u001b[0;34m.\u001b[0m\u001b[0mModel_TBasket\u001b[0m\u001b[0;34m)\u001b[0m\u001b[0;34m:\u001b[0m\u001b[0;34m\u001b[0m\u001b[0;34m\u001b[0m\u001b[0m\n",
      "\u001b[0;32m~/miniconda3/envs/env_gan/lib/python3.8/site-packages/uproot/source/futures.py\u001b[0m in \u001b[0;36msubmit\u001b[0;34m(self, task, *args)\u001b[0m\n\u001b[1;32m     81\u001b[0m         \u001b[0mImmediately\u001b[0m \u001b[0mruns\u001b[0m\u001b[0;31m \u001b[0m\u001b[0;31m`\u001b[0m\u001b[0;31m`\u001b[0m\u001b[0mtask\u001b[0m\u001b[0;34m(\u001b[0m\u001b[0;34m*\u001b[0m\u001b[0margs\u001b[0m\u001b[0;34m)\u001b[0m\u001b[0;31m`\u001b[0m\u001b[0;31m`\u001b[0m\u001b[0;34m.\u001b[0m\u001b[0;34m\u001b[0m\u001b[0;34m\u001b[0m\u001b[0m\n\u001b[1;32m     82\u001b[0m         \"\"\"\n\u001b[0;32m---> 83\u001b[0;31m         \u001b[0;32mreturn\u001b[0m \u001b[0mTrivialFuture\u001b[0m\u001b[0;34m(\u001b[0m\u001b[0mtask\u001b[0m\u001b[0;34m(\u001b[0m\u001b[0;34m*\u001b[0m\u001b[0margs\u001b[0m\u001b[0;34m)\u001b[0m\u001b[0;34m)\u001b[0m\u001b[0;34m\u001b[0m\u001b[0;34m\u001b[0m\u001b[0m\n\u001b[0m\u001b[1;32m     84\u001b[0m \u001b[0;34m\u001b[0m\u001b[0m\n\u001b[1;32m     85\u001b[0m     \u001b[0;32mdef\u001b[0m \u001b[0mshutdown\u001b[0m\u001b[0;34m(\u001b[0m\u001b[0mself\u001b[0m\u001b[0;34m,\u001b[0m \u001b[0mwait\u001b[0m\u001b[0;34m=\u001b[0m\u001b[0;32mTrue\u001b[0m\u001b[0;34m)\u001b[0m\u001b[0;34m:\u001b[0m\u001b[0;34m\u001b[0m\u001b[0;34m\u001b[0m\u001b[0m\n",
      "\u001b[0;32m~/miniconda3/envs/env_gan/lib/python3.8/site-packages/uproot/behaviors/TBranch.py\u001b[0m in \u001b[0;36mchunk_to_basket\u001b[0;34m(chunk, branch, basket_num)\u001b[0m\n\u001b[1;32m   3429\u001b[0m         \u001b[0;32mtry\u001b[0m\u001b[0;34m:\u001b[0m\u001b[0;34m\u001b[0m\u001b[0;34m\u001b[0m\u001b[0m\n\u001b[1;32m   3430\u001b[0m             \u001b[0mcursor\u001b[0m \u001b[0;34m=\u001b[0m \u001b[0muproot\u001b[0m\u001b[0;34m.\u001b[0m\u001b[0msource\u001b[0m\u001b[0;34m.\u001b[0m\u001b[0mcursor\u001b[0m\u001b[0;34m.\u001b[0m\u001b[0mCursor\u001b[0m\u001b[0;34m(\u001b[0m\u001b[0mchunk\u001b[0m\u001b[0;34m.\u001b[0m\u001b[0mstart\u001b[0m\u001b[0;34m)\u001b[0m\u001b[0;34m\u001b[0m\u001b[0;34m\u001b[0m\u001b[0m\n\u001b[0;32m-> 3431\u001b[0;31m             basket = uproot.models.TBasket.Model_TBasket.read(\n\u001b[0m\u001b[1;32m   3432\u001b[0m                 \u001b[0mchunk\u001b[0m\u001b[0;34m,\u001b[0m\u001b[0;34m\u001b[0m\u001b[0;34m\u001b[0m\u001b[0m\n\u001b[1;32m   3433\u001b[0m                 \u001b[0mcursor\u001b[0m\u001b[0;34m,\u001b[0m\u001b[0;34m\u001b[0m\u001b[0;34m\u001b[0m\u001b[0m\n",
      "\u001b[0;32m~/miniconda3/envs/env_gan/lib/python3.8/site-packages/uproot/model.py\u001b[0m in \u001b[0;36mread\u001b[0;34m(cls, chunk, cursor, context, file, selffile, parent, concrete)\u001b[0m\n\u001b[1;32m    819\u001b[0m             )\n\u001b[1;32m    820\u001b[0m \u001b[0;34m\u001b[0m\u001b[0m\n\u001b[0;32m--> 821\u001b[0;31m             \u001b[0mself\u001b[0m\u001b[0;34m.\u001b[0m\u001b[0mread_members\u001b[0m\u001b[0;34m(\u001b[0m\u001b[0mchunk\u001b[0m\u001b[0;34m,\u001b[0m \u001b[0mcursor\u001b[0m\u001b[0;34m,\u001b[0m \u001b[0mcontext\u001b[0m\u001b[0;34m,\u001b[0m \u001b[0mfile\u001b[0m\u001b[0;34m)\u001b[0m\u001b[0;34m\u001b[0m\u001b[0;34m\u001b[0m\u001b[0m\n\u001b[0m\u001b[1;32m    822\u001b[0m \u001b[0;34m\u001b[0m\u001b[0m\n\u001b[1;32m    823\u001b[0m             self.hook_after_read_members(\n",
      "\u001b[0;32m~/miniconda3/envs/env_gan/lib/python3.8/site-packages/uproot/models/TBasket.py\u001b[0m in \u001b[0;36mread_members\u001b[0;34m(self, chunk, cursor, context, file)\u001b[0m\n\u001b[1;32m    279\u001b[0m             \u001b[0;32mif\u001b[0m \u001b[0mcompressed_bytes\u001b[0m \u001b[0;34m!=\u001b[0m \u001b[0muncompressed_bytes\u001b[0m\u001b[0;34m:\u001b[0m\u001b[0;34m\u001b[0m\u001b[0;34m\u001b[0m\u001b[0m\n\u001b[1;32m    280\u001b[0m                 \u001b[0mself\u001b[0m\u001b[0;34m.\u001b[0m\u001b[0m_block_compression_info\u001b[0m \u001b[0;34m=\u001b[0m \u001b[0;34m[\u001b[0m\u001b[0;34m]\u001b[0m\u001b[0;34m\u001b[0m\u001b[0;34m\u001b[0m\u001b[0m\n\u001b[0;32m--> 281\u001b[0;31m                 uncompressed = uproot.compression.decompress(\n\u001b[0m\u001b[1;32m    282\u001b[0m                     \u001b[0mchunk\u001b[0m\u001b[0;34m,\u001b[0m\u001b[0;34m\u001b[0m\u001b[0;34m\u001b[0m\u001b[0m\n\u001b[1;32m    283\u001b[0m                     \u001b[0mcursor\u001b[0m\u001b[0;34m,\u001b[0m\u001b[0;34m\u001b[0m\u001b[0;34m\u001b[0m\u001b[0m\n",
      "\u001b[0;32m~/miniconda3/envs/env_gan/lib/python3.8/site-packages/uproot/compression.py\u001b[0m in \u001b[0;36mdecompress\u001b[0;34m(chunk, cursor, context, compressed_bytes, uncompressed_bytes, block_info)\u001b[0m\n\u001b[1;32m    414\u001b[0m             )\n\u001b[1;32m    415\u001b[0m \u001b[0;34m\u001b[0m\u001b[0m\n\u001b[0;32m--> 416\u001b[0;31m         uncompressed_bytestring = decompressor.decompress(\n\u001b[0m\u001b[1;32m    417\u001b[0m             \u001b[0mdata\u001b[0m\u001b[0;34m,\u001b[0m \u001b[0mblock_uncompressed_bytes\u001b[0m\u001b[0;34m\u001b[0m\u001b[0;34m\u001b[0m\u001b[0m\n\u001b[1;32m    418\u001b[0m         )\n",
      "\u001b[0;32m~/miniconda3/envs/env_gan/lib/python3.8/site-packages/uproot/compression.py\u001b[0m in \u001b[0;36mdecompress\u001b[0;34m(self, data, uncompressed_bytes)\u001b[0m\n\u001b[1;32m     94\u001b[0m         \u001b[0;32mimport\u001b[0m \u001b[0mzlib\u001b[0m\u001b[0;34m\u001b[0m\u001b[0;34m\u001b[0m\u001b[0m\n\u001b[1;32m     95\u001b[0m \u001b[0;34m\u001b[0m\u001b[0m\n\u001b[0;32m---> 96\u001b[0;31m         \u001b[0;32mreturn\u001b[0m \u001b[0mzlib\u001b[0m\u001b[0;34m.\u001b[0m\u001b[0mdecompress\u001b[0m\u001b[0;34m(\u001b[0m\u001b[0mdata\u001b[0m\u001b[0;34m)\u001b[0m\u001b[0;34m\u001b[0m\u001b[0;34m\u001b[0m\u001b[0m\n\u001b[0m\u001b[1;32m     97\u001b[0m \u001b[0;34m\u001b[0m\u001b[0m\n\u001b[1;32m     98\u001b[0m \u001b[0;34m\u001b[0m\u001b[0m\n",
      "\u001b[0;31mKeyboardInterrupt\u001b[0m: "
     ]
    }
   ],
   "source": [
    "import preprocess\n",
    "file_name = \"/global/cfs/projectdirs/m3443/data/ForHadronic/train_data/pimode/hadron_pi_mode.root\"\n",
    "tree_name = \"output\"\n",
    "out_branch_names = [\"particle_id\", \"particle_E\", \"particle_px\", \"particle_py\", \"particle_pz\"]\n",
    "in_branch_names = ['incoming']\n",
    "preprocess.read_data_root_hadronic(file_name, tree_name, out_branch_names, \n",
    "                                                                 in_branch_names=in_branch_names, test_frac=0.01, val_frac=0.01)"
   ]
  },
  {
   "cell_type": "code",
   "execution_count": 2,
   "metadata": {},
   "outputs": [
    {
     "name": "stdout",
     "output_type": "stream",
     "text": [
      "Loading latest checkpoint from: /global/homes/c/curtis/code/clean/ForHadronic/normalizing-flow/trained_results/train_out/pi_mode_20_bijectors/checkpoints\n",
      "Loaded checkpoint from /global/homes/c/curtis/code/clean/ForHadronic/normalizing-flow/trained_results/train_out/pi_mode_20_bijectors/checkpoints/ckpt-499\n",
      "Saved to:  /global/u2/c/curtis/code/clean/ForHadronic/normalizing-flow/gan4hep/nf/hickle_output\n"
     ]
    }
   ],
   "source": [
    "from hadronic_display import Display\n",
    "\n",
    "projectDir = '/global/homes/c/curtis/code/clean/ForHadronic/normalizing-flow' \n",
    "# check points\n",
    "mpath = projectDir+'/trained_results/train_out/pi_mode_20_bijectors'\n",
    "# config, know previous configs were\n",
    "cpath = projectDir+'/gan4hep/nf/config_nf_hadronic.yml'\n",
    "# data path\n",
    "dpath = '/global/cfs/cdirs/m3443/data/ForHadronic/train_data/wtanh/data_tanh_shifted.hkl'\n",
    "\n",
    "hadron_e_display = Display(mpath, cpath, dpath, max_epochs=1200, epoch=499)\n",
    "\n",
    "# original comparison file\n",
    "# /global/homes/c/curtis/code/normalizing-flow/gan4hep/nf/hadronic/hadronic_display.root\n",
    "# print(\"Starting to load comparison\")\n",
    "# hadron_e_display.load_comparison()\n",
    "\n",
    "hickle_path = \"/global/cfs/projectdirs/m3443/data/ForHadronic/train_data/pi_test9.hkl\"\n",
    "hadron_e_display.make_graphs_from_hickle(hickle_path, particle_num=2)"
   ]
  },
  {
   "cell_type": "code",
   "execution_count": 5,
   "metadata": {},
   "outputs": [],
   "source": [
    "import os\n",
    "p = os.path.abspath(\"./sample\")\n",
    "os.makedirs(\"./sample\", exist_ok=True)"
   ]
  },
  {
   "cell_type": "markdown",
   "metadata": {},
   "source": [
    "How does the hickle file look like?"
   ]
  },
  {
   "cell_type": "code",
   "execution_count": 2,
   "metadata": {},
   "outputs": [
    {
     "name": "stdout",
     "output_type": "stream",
     "text": [
      "(73042642, 5)\n",
      "(73042642, 5)\n",
      "[ 44048.12561035 -13048.12561035]\n",
      "(['incoming'], ['particle_id', 'particle_E', 'particle_px', 'particle_py', 'particle_pz'], [])\n",
      "{-3334.0: 0.0, -3322.0: 1.0, -3312.0: 2.0, -3222.0: 3.0, -3212.0: 4.0, -3122.0: 5.0, -3112.0: 6.0, -2212.0: 7.0, -2112.0: 8.0, -321.0: 9.0, -211.0: 10.0, 22.0: 11.0, 111.0: 12.0, 130.0: 13.0, 211.0: 14.0, 221.0: 15.0, 310.0: 16.0, 321.0: 17.0, 331.0: 18.0, 2112.0: 19.0, 2212.0: 20.0, 3112.0: 21.0, 3122.0: 22.0, 3212.0: 23.0, 3222.0: 24.0, 3312.0: 25.0, 3322.0: 26.0, 3334.0: 27.0, 1000010048.0: 28.0, 1000020032.0: 29.0, 1000020096.0: 30.0, 1000030016.0: 31.0, 1000030080.0: 32.0, 1000040064.0: 33.0, 1000040128.0: 34.0, 1000050048.0: 35.0, 1000050112.0: 36.0, 1000060096.0: 37.0, 1000070144.0: 38.0}\n"
     ]
    },
    {
     "data": {
      "text/plain": [
       "array([[-2.82048462e-01, -2.60934923e-01,  1.47091816e-01,\n",
       "         2.83832709e-01,  1.85320129e-01],\n",
       "       [-4.87174615e-01, -9.89195542e-01, -1.97933634e-03,\n",
       "        -4.75137613e-04, -3.86611412e-03],\n",
       "       [ 2.56407692e-02, -9.54210768e-01, -3.88247845e-04,\n",
       "         4.61270889e-03,  6.98429669e-03],\n",
       "       ...,\n",
       "       [-2.82048462e-01, -6.28916605e-01,  1.05690892e-01,\n",
       "         1.39705737e-01,  6.10374590e-02],\n",
       "       [ 4.87174615e-01, -8.69191978e-01,  9.67651136e-03,\n",
       "         7.09665907e-03,  8.25329977e-03],\n",
       "       [-2.56407692e-02, -9.42902937e-01, -1.64138854e-02,\n",
       "        -6.97719601e-03, -6.45432178e-03]])"
      ]
     },
     "execution_count": 2,
     "metadata": {},
     "output_type": "execute_result"
    }
   ],
   "source": [
    "import hickle as hkl\n",
    "import pandas as pd\n",
    "import numpy as np\n",
    "import preprocess\n",
    "\n",
    "saved = dict(hkl.load(\"/global/cfs/projectdirs/m3443/data/ForHadronic/train_data/pimode/pimode.hkl\"))\n",
    "data = saved['data']\n",
    "scale = saved['scale']\n",
    "label = saved['label']\n",
    "partdict = saved['particle_dictionary']\n",
    "\n",
    "# train_in, train_truth, _, _, _, _ = data\n",
    "# in_branch_names, out_branch_names, data_branch_names = label\n",
    "# cols = out_branch_names + in_branch_names + data_branch_names\n",
    "# scale = scale\n",
    "\n",
    "# print(train_in.shape)\n",
    "# print(train_truth.shape)\n",
    "# print(scale)\n",
    "# print(label)\n",
    "# print(partdict)\n",
    "\n",
    "# scale_max, scale_min = scale\n",
    "\n",
    "# TRUTH \n",
    "# truth_vectors = np.concatenate((etv_id[:, None], truth_e[:, None], truth_vectors_momentum), axis=1)\n",
    "# shape is (event id, Energy, px, py, pz)\n",
    "# truth_e = pscale(truth_e, scale_max, 0)\n",
    "\n",
    "# truth_e = train_truth[]\n",
    "# truth_e = preprocess.unscale(truth_e, scale_max, 0)\n",
    "\n",
    "\n",
    "# maybe \n"
   ]
  },
  {
   "cell_type": "code",
   "execution_count": 1,
   "metadata": {},
   "outputs": [
    {
     "name": "stdout",
     "output_type": "stream",
     "text": [
      "[[31000.         28334.24804688 12024.1640625   8471.28710938]\n",
      " [31000.         18844.73632812 20607.9140625  15471.35058594]\n",
      " [31000.         25518.06640625  4718.94042969 18593.890625  ]\n",
      " ...\n",
      " [31000.          5300.15136719 22586.65625    21929.984375  ]\n",
      " [31000.         22352.28320312  3112.49584961 22580.09375   ]\n",
      " [31000.         18074.1875     25213.76171875  7534.10986328]]\n",
      "[14 16 20 ... 23 23 24]\n"
     ]
    },
    {
     "data": {
      "text/html": [
       "<div>\n",
       "<style scoped>\n",
       "    .dataframe tbody tr th:only-of-type {\n",
       "        vertical-align: middle;\n",
       "    }\n",
       "\n",
       "    .dataframe tbody tr th {\n",
       "        vertical-align: top;\n",
       "    }\n",
       "\n",
       "    .dataframe thead th {\n",
       "        text-align: right;\n",
       "    }\n",
       "</style>\n",
       "<table border=\"1\" class=\"dataframe\">\n",
       "  <thead>\n",
       "    <tr style=\"text-align: right;\">\n",
       "      <th></th>\n",
       "      <th>particle_id</th>\n",
       "      <th>particle_E</th>\n",
       "      <th>particle_px</th>\n",
       "      <th>particle_py</th>\n",
       "      <th>particle_pz</th>\n",
       "      <th>incoming</th>\n",
       "    </tr>\n",
       "  </thead>\n",
       "  <tbody>\n",
       "    <tr>\n",
       "      <th>0</th>\n",
       "      <td>[211.0, -211.0, 2212.0, 2112.0, 211.0, 111.0, ...</td>\n",
       "      <td>14</td>\n",
       "      <td>[747.8659057617188, 572.5938110351562, 111.197...</td>\n",
       "      <td>[327.887939453125, 262.717529296875, -264.5087...</td>\n",
       "      <td>[50.74557113647461, -146.4646453857422, -113.5...</td>\n",
       "      <td>31000.0</td>\n",
       "    </tr>\n",
       "    <tr>\n",
       "      <th>1</th>\n",
       "      <td>[-211.0, 211.0, 2112.0, 211.0, -211.0, 2112.0,...</td>\n",
       "      <td>16</td>\n",
       "      <td>[3432.970703125, 654.1198120117188, 959.524963...</td>\n",
       "      <td>[4197.08935546875, 1136.324462890625, 367.7626...</td>\n",
       "      <td>[3919.207763671875, 638.8335571289062, 328.673...</td>\n",
       "      <td>31000.0</td>\n",
       "    </tr>\n",
       "    <tr>\n",
       "      <th>2</th>\n",
       "      <td>[-211.0, 211.0, 2212.0, -211.0, 111.0, 2112.0,...</td>\n",
       "      <td>20</td>\n",
       "      <td>[1032.96142578125, 569.2941284179688, 4955.684...</td>\n",
       "      <td>[133.66824340820312, 372.1673583984375, 1939.3...</td>\n",
       "      <td>[1210.409423828125, 513.2843627929688, 3750.51...</td>\n",
       "      <td>31000.0</td>\n",
       "    </tr>\n",
       "    <tr>\n",
       "      <th>3</th>\n",
       "      <td>[-211.0, 211.0, -211.0, 221.0, 2212.0, 111.0, ...</td>\n",
       "      <td>17</td>\n",
       "      <td>[4.446780204772949, 101.55689239501953, 733.63...</td>\n",
       "      <td>[163.7340545654297, 368.9294738769531, 1553.61...</td>\n",
       "      <td>[145.71730041503906, 299.7763671875, 941.32482...</td>\n",
       "      <td>31000.0</td>\n",
       "    </tr>\n",
       "    <tr>\n",
       "      <th>4</th>\n",
       "      <td>[-211.0, 211.0, 2112.0, 211.0, 2112.0, 2212.0,...</td>\n",
       "      <td>19</td>\n",
       "      <td>[784.6107177734375, 1405.382080078125, 1966.07...</td>\n",
       "      <td>[984.4366455078125, 1517.6474609375, 2309.2644...</td>\n",
       "      <td>[429.6544494628906, -590.6134033203125, 388.17...</td>\n",
       "      <td>31000.0</td>\n",
       "    </tr>\n",
       "    <tr>\n",
       "      <th>...</th>\n",
       "      <td>...</td>\n",
       "      <td>...</td>\n",
       "      <td>...</td>\n",
       "      <td>...</td>\n",
       "      <td>...</td>\n",
       "      <td>...</td>\n",
       "    </tr>\n",
       "    <tr>\n",
       "      <th>4999995</th>\n",
       "      <td>[-211.0, 211.0, 2212.0, 130.0, 211.0, 111.0, 2...</td>\n",
       "      <td>22</td>\n",
       "      <td>[358.100341796875, 351.8626403808594, 1208.197...</td>\n",
       "      <td>[658.769287109375, 377.5389709472656, 1049.125...</td>\n",
       "      <td>[635.2437744140625, 249.9803466796875, 1357.63...</td>\n",
       "      <td>31000.0</td>\n",
       "    </tr>\n",
       "    <tr>\n",
       "      <th>4999996</th>\n",
       "      <td>[211.0, -211.0, 211.0, 2212.0, 111.0, -211.0, ...</td>\n",
       "      <td>22</td>\n",
       "      <td>[297.2841796875, 402.6824035644531, 174.126907...</td>\n",
       "      <td>[96.9198226928711, 220.05276489257812, -209.38...</td>\n",
       "      <td>[190.2758331298828, 144.76382446289062, -202.8...</td>\n",
       "      <td>31000.0</td>\n",
       "    </tr>\n",
       "    <tr>\n",
       "      <th>4999997</th>\n",
       "      <td>[-211.0, 211.0, -211.0, 111.0, 2112.0, 2212.0,...</td>\n",
       "      <td>23</td>\n",
       "      <td>[17.81800079345703, 81.8419189453125, 93.90907...</td>\n",
       "      <td>[694.0865478515625, 410.049560546875, 208.4173...</td>\n",
       "      <td>[745.700927734375, 701.7203369140625, 179.3379...</td>\n",
       "      <td>31000.0</td>\n",
       "    </tr>\n",
       "    <tr>\n",
       "      <th>4999998</th>\n",
       "      <td>[-211.0, 211.0, 2112.0, 2212.0, 111.0, 2212.0,...</td>\n",
       "      <td>23</td>\n",
       "      <td>[3049.896240234375, 738.0166015625, 241.555694...</td>\n",
       "      <td>[435.0964050292969, 889.7916870117188, -121.39...</td>\n",
       "      <td>[2901.58154296875, 1553.7327880859375, -586.64...</td>\n",
       "      <td>31000.0</td>\n",
       "    </tr>\n",
       "    <tr>\n",
       "      <th>4999999</th>\n",
       "      <td>[-211.0, 211.0, 331.0, 111.0, 111.0, 2112.0, 2...</td>\n",
       "      <td>24</td>\n",
       "      <td>[751.9835815429688, 449.9091491699219, 1768.17...</td>\n",
       "      <td>[979.7263793945312, 330.42059326171875, 2683.7...</td>\n",
       "      <td>[378.2074279785156, 377.8726501464844, 224.049...</td>\n",
       "      <td>31000.0</td>\n",
       "    </tr>\n",
       "  </tbody>\n",
       "</table>\n",
       "<p>5000000 rows × 6 columns</p>\n",
       "</div>"
      ],
      "text/plain": [
       "                                               particle_id  particle_E  \\\n",
       "0        [211.0, -211.0, 2212.0, 2112.0, 211.0, 111.0, ...          14   \n",
       "1        [-211.0, 211.0, 2112.0, 211.0, -211.0, 2112.0,...          16   \n",
       "2        [-211.0, 211.0, 2212.0, -211.0, 111.0, 2112.0,...          20   \n",
       "3        [-211.0, 211.0, -211.0, 221.0, 2212.0, 111.0, ...          17   \n",
       "4        [-211.0, 211.0, 2112.0, 211.0, 2112.0, 2212.0,...          19   \n",
       "...                                                    ...         ...   \n",
       "4999995  [-211.0, 211.0, 2212.0, 130.0, 211.0, 111.0, 2...          22   \n",
       "4999996  [211.0, -211.0, 211.0, 2212.0, 111.0, -211.0, ...          22   \n",
       "4999997  [-211.0, 211.0, -211.0, 111.0, 2112.0, 2212.0,...          23   \n",
       "4999998  [-211.0, 211.0, 2112.0, 2212.0, 111.0, 2212.0,...          23   \n",
       "4999999  [-211.0, 211.0, 331.0, 111.0, 111.0, 2112.0, 2...          24   \n",
       "\n",
       "                                               particle_px  \\\n",
       "0        [747.8659057617188, 572.5938110351562, 111.197...   \n",
       "1        [3432.970703125, 654.1198120117188, 959.524963...   \n",
       "2        [1032.96142578125, 569.2941284179688, 4955.684...   \n",
       "3        [4.446780204772949, 101.55689239501953, 733.63...   \n",
       "4        [784.6107177734375, 1405.382080078125, 1966.07...   \n",
       "...                                                    ...   \n",
       "4999995  [358.100341796875, 351.8626403808594, 1208.197...   \n",
       "4999996  [297.2841796875, 402.6824035644531, 174.126907...   \n",
       "4999997  [17.81800079345703, 81.8419189453125, 93.90907...   \n",
       "4999998  [3049.896240234375, 738.0166015625, 241.555694...   \n",
       "4999999  [751.9835815429688, 449.9091491699219, 1768.17...   \n",
       "\n",
       "                                               particle_py  \\\n",
       "0        [327.887939453125, 262.717529296875, -264.5087...   \n",
       "1        [4197.08935546875, 1136.324462890625, 367.7626...   \n",
       "2        [133.66824340820312, 372.1673583984375, 1939.3...   \n",
       "3        [163.7340545654297, 368.9294738769531, 1553.61...   \n",
       "4        [984.4366455078125, 1517.6474609375, 2309.2644...   \n",
       "...                                                    ...   \n",
       "4999995  [658.769287109375, 377.5389709472656, 1049.125...   \n",
       "4999996  [96.9198226928711, 220.05276489257812, -209.38...   \n",
       "4999997  [694.0865478515625, 410.049560546875, 208.4173...   \n",
       "4999998  [435.0964050292969, 889.7916870117188, -121.39...   \n",
       "4999999  [979.7263793945312, 330.42059326171875, 2683.7...   \n",
       "\n",
       "                                               particle_pz  incoming  \n",
       "0        [50.74557113647461, -146.4646453857422, -113.5...   31000.0  \n",
       "1        [3919.207763671875, 638.8335571289062, 328.673...   31000.0  \n",
       "2        [1210.409423828125, 513.2843627929688, 3750.51...   31000.0  \n",
       "3        [145.71730041503906, 299.7763671875, 941.32482...   31000.0  \n",
       "4        [429.6544494628906, -590.6134033203125, 388.17...   31000.0  \n",
       "...                                                    ...       ...  \n",
       "4999995  [635.2437744140625, 249.9803466796875, 1357.63...   31000.0  \n",
       "4999996  [190.2758331298828, 144.76382446289062, -202.8...   31000.0  \n",
       "4999997  [745.700927734375, 701.7203369140625, 179.3379...   31000.0  \n",
       "4999998  [2901.58154296875, 1553.7327880859375, -586.64...   31000.0  \n",
       "4999999  [378.2074279785156, 377.8726501464844, 224.049...   31000.0  \n",
       "\n",
       "[5000000 rows x 6 columns]"
      ]
     },
     "execution_count": 1,
     "metadata": {},
     "output_type": "execute_result"
    }
   ],
   "source": [
    "\n",
    "\n",
    "import uproot\n",
    "import pandas as pd\n",
    "import numpy as np\n",
    "import tensorflow as tf\n",
    "\n",
    "f = \"/global/cfs/projectdirs/m3443/data/ForHadronic/train_data/pimode/hadron_pi_mode.root\"\n",
    "branch_names = [\"particle_id\", \"particle_E\", \"particle_px\", \"particle_py\", \"particle_pz\"] + [\"incoming\"]\n",
    "dfs = []\n",
    "in_file = uproot.open(f)\n",
    "tree = in_file[\"output\"]\n",
    "array_root = tree.arrays(branch_names, library=\"np\")\n",
    "df_root = pd.DataFrame(array_root)\n",
    "dfs += [df_root]\n",
    "\n",
    "df = pd.concat(dfs)\n",
    "\n",
    "cond_vectors = np.array([np.asarray(a) for a in df[\"incoming\"].values])\n",
    "true_p_counts = np.array([len(a) for a in df[\"particle_E\"]])\n",
    "print(cond_vectors)\n",
    "print(true_p_counts)\n",
    "\n",
    "df[\"incoming\"].values = cond_vectors\n",
    "df[\"particle_E\"] = true_p_counts\n",
    "\n",
    "df"
   ]
  },
  {
   "cell_type": "markdown",
   "metadata": {},
   "source": [
    "For me it creates limited memory. about 11 GiB so 5 million events is unrealistic. However, I think it creates it dynamically. It dynamically allocates RAM among the users which is why Allen is sometimes able to run it. This process should take ~3 min for 5 million events and ~1.5 min for 1 million events."
   ]
  },
  {
   "cell_type": "code",
   "execution_count": 4,
   "metadata": {},
   "outputs": [
    {
     "name": "stdout",
     "output_type": "stream",
     "text": [
      "Starting to generate events\n",
      "(2, 1999947, 5)\n",
      "(3, 1998922, 5)\n",
      "(4, 1997611, 5)\n",
      "(5, 1996042, 5)\n",
      "(6, 1994163, 5)\n",
      "(7, 1991433, 5)\n",
      "(8, 1987096, 5)\n",
      "(9, 1980084, 5)\n",
      "(10, 1969266, 5)\n",
      "(11, 1953733, 5)\n",
      "(12, 1931578, 5)\n",
      "(13, 1899529, 5)\n",
      "(14, 1851515, 5)\n",
      "(15, 1779365, 5)\n",
      "(16, 1674766, 5)\n",
      "(17, 1530641, 5)\n",
      "(18, 1348865, 5)\n",
      "(19, 1137554, 5)\n",
      "(20, 911389, 5)\n",
      "(21, 690088, 5)\n",
      "(22, 491726, 5)\n",
      "(23, 330273, 5)\n",
      "(24, 209525, 5)\n",
      "(25, 125564, 5)\n",
      "(26, 71589, 5)\n",
      "(27, 38003, 5)\n",
      "(28, 19158, 5)\n",
      "(29, 9133, 5)\n",
      "(30, 3883, 5)\n",
      "(31, 1618, 5)\n",
      "(32, 577, 5)\n",
      "(33, 186, 5)\n",
      "(34, 56, 5)\n",
      "(35, 14, 5)\n",
      "(36, 2, 5)\n",
      "(37, 0, 5)\n",
      "37\r"
     ]
    }
   ],
   "source": [
    "print(\"Starting to generate events\")\n",
    "events, counts, g_in = hadron_e_display.generate_events(2000000, projectDir+\"/out_nf\")"
   ]
  },
  {
   "cell_type": "code",
   "execution_count": null,
   "metadata": {},
   "outputs": [],
   "source": [
    "events, counts, g_in = hadron_e_display.load_gen(projectDir+\"/out_nf\")"
   ]
  },
  {
   "cell_type": "code",
   "execution_count": 5,
   "metadata": {},
   "outputs": [
    {
     "name": "stdout",
     "output_type": "stream",
     "text": [
      "Saved to:  /global/homes/c/curtis/code/clean/ForHadronic/normalizing-flow/hadronic_leading_particles\n"
     ]
    }
   ],
   "source": [
    "hadron_e_display.make_graphs(projectDir+\"/hadronic_leading_particles\", events, counts, particle_num=0, scale_by_target=True)"
   ]
  },
  {
   "cell_type": "code",
   "execution_count": 6,
   "metadata": {},
   "outputs": [
    {
     "name": "stdout",
     "output_type": "stream",
     "text": [
      "Saved to:  /global/homes/c/curtis/code/clean/ForHadronic/normalizing-flow/hadronic_1\n",
      "Saved to:  /global/homes/c/curtis/code/clean/ForHadronic/normalizing-flow/hadronic_2\n",
      "Saved to:  /global/homes/c/curtis/code/clean/ForHadronic/normalizing-flow/hadronic_3\n",
      "Saved to:  /global/homes/c/curtis/code/clean/ForHadronic/normalizing-flow/hadronic_4\n",
      "Saved to:  /global/homes/c/curtis/code/clean/ForHadronic/normalizing-flow/hadronic_5\n",
      "Saved to:  /global/homes/c/curtis/code/clean/ForHadronic/normalizing-flow/hadronic_6\n",
      "Saved to:  /global/homes/c/curtis/code/clean/ForHadronic/normalizing-flow/hadronic_7\n",
      "Saved to:  /global/homes/c/curtis/code/clean/ForHadronic/normalizing-flow/hadronic_8\n",
      "Saved to:  /global/homes/c/curtis/code/clean/ForHadronic/normalizing-flow/hadronic_9\n",
      "Saved to:  /global/homes/c/curtis/code/clean/ForHadronic/normalizing-flow/hadronic_10\n"
     ]
    }
   ],
   "source": [
    "hadron_e_display.make_graphs(projectDir+\"/hadronic_1\", events, counts, particle_num=1, scale_by_target=True)\n",
    "hadron_e_display.make_graphs(projectDir+\"/hadronic_2\", events, counts, particle_num=2, scale_by_target=True)\n",
    "hadron_e_display.make_graphs(projectDir+\"/hadronic_3\", events, counts, particle_num=3, scale_by_target=True)\n",
    "hadron_e_display.make_graphs(projectDir+\"/hadronic_4\", events, counts, particle_num=4, scale_by_target=True)\n",
    "hadron_e_display.make_graphs(projectDir+\"/hadronic_5\", events, counts, particle_num=5, scale_by_target=True)\n",
    "hadron_e_display.make_graphs(projectDir+\"/hadronic_6\", events, counts, particle_num=6, scale_by_target=True)\n",
    "hadron_e_display.make_graphs(projectDir+\"/hadronic_7\", events, counts, particle_num=7, scale_by_target=True)\n",
    "hadron_e_display.make_graphs(projectDir+\"/hadronic_8\", events, counts, particle_num=8, scale_by_target=True)\n",
    "hadron_e_display.make_graphs(projectDir+\"/hadronic_9\", events, counts, particle_num=9, scale_by_target=True)\n",
    "hadron_e_display.make_graphs(projectDir+\"/hadronic_10\", events, counts, particle_num=10, scale_by_target=True)"
   ]
  },
  {
   "cell_type": "markdown",
   "metadata": {},
   "source": [
    "### Wassterstein distances / Loss"
   ]
  },
  {
   "cell_type": "code",
   "execution_count": 10,
   "metadata": {},
   "outputs": [],
   "source": [
    "from utils_plot_recurrent import plot_logfile\n",
    "\n",
    "filename = projectDir+'/trained_results/train_out/pi_mode_20_bijectors/logs/results.txt'\n",
    "plot_logfile(filename, 499, projectDir+\"/trained_results/train_out/pi_mode_20_bijectors/imgs/\", use_val=True, logy=True, cutoff=150)"
   ]
  },
  {
   "cell_type": "code",
   "execution_count": null,
   "metadata": {},
   "outputs": [],
   "source": [
    "\n",
    "# plot validation loss\n",
    "plot_logfile(filename, use_val=True)"
   ]
  },
  {
   "cell_type": "code",
   "execution_count": 17,
   "metadata": {},
   "outputs": [],
   "source": [
    "import pandas as pd\n",
    "import numpy as np\n",
    "import matplotlib.pyplot as plt\n",
    "cutoff=0 # which columns\n",
    "logy=None\n",
    "filename = \"/global/homes/c/curtis/code/normalizing-flow/train_out/pi_mode_20_bijectors/logs/results.txt\""
   ]
  },
  {
   "cell_type": "code",
   "execution_count": 18,
   "metadata": {},
   "outputs": [
    {
     "data": {
      "text/plain": [
       "<AxesSubplot:xlabel='epoch', ylabel='Training Loss vs Validation Loss'>"
      ]
     },
     "execution_count": 18,
     "metadata": {},
     "output_type": "execute_result"
    },
    {
     "data": {
      "image/png": "[encoded data removed]",
      "text/plain": [
       "<Figure size 864x720 with 2 Axes>"
      ]
     },
     "metadata": {
      "needs_background": "light"
     },
     "output_type": "display_data"
    }
   ],
   "source": [
    "df = pd.read_csv(filename)\n",
    "df.columns = ['epoch', 'time', 'wass_dist', 'loss_tr', 'loss_te', 'loss_va']\n",
    "df = df[df['epoch'].str.contains(r'\\*')]\n",
    "if len(df) == 0:\n",
    "\texit(0)\n",
    "df = df[cutoff:]\n",
    "\n",
    "df['epoch'] = df['epoch'].apply(lambda x: x[2:])\n",
    "df = df.reset_index(drop = True).astype('float64')\n",
    "\n",
    "# plot best Wasserstein distance so far across epochs\n",
    "wass_dist_best = []\n",
    "best_so_far = np.inf\n",
    "for wd in df['wass_dist']:\n",
    "\tif wd < best_so_far:\n",
    "\t\tbest_so_far = wd\n",
    "\twass_dist_best.append(best_so_far)\n",
    "df['wass_dist'] = wass_dist_best\n",
    "\n",
    "# time = []\n",
    "# total = 0\n",
    "# run_total = 0\n",
    "# for t in df['time']:\n",
    "# \tif t < run_total:\n",
    "# \t\ttotal += run_total\n",
    "# \trun_total = t\n",
    "# \ttime.append(t + total)\n",
    "# df['time'] = time\n",
    "\n",
    "fig, axs = plt.subplots(2, 1, figsize=(12, 10), constrained_layout=True)\n",
    "axs = axs.flatten()\n",
    "\n",
    "fontsize = 16\n",
    "minor_size = 14\n",
    "y_labels = ['Best Wasserstein Distance', 'Training Loss vs Validation Loss']\n",
    "y_data   = ['wass_dist', 'loss_tr']\n",
    "x_label = 'Epoch'\n",
    "x_data = 'epoch'\n",
    "\n",
    "# PLOTS the wasserstein distance\n",
    "ib = 0\n",
    "values = (y_data[ib], y_labels[ib])\n",
    "ax = axs[ib]\n",
    "\n",
    "y_values = values[0]\n",
    "df.plot(x=x_data, y=y_values, ax=ax, logy=logy, ylim=(0, 0.06))\n",
    "ax.set_ylabel(values[1], fontsize=fontsize)\n",
    "ax.set_xlabel(x_label, fontsize=fontsize)\n",
    "ax.tick_params(width=2, grid_alpha=0.5, labelsize=minor_size, right=True, top=True)\n",
    "axs[0].get_legend().remove()\n",
    "\n",
    "\n",
    "# PLOTS the training loss\n",
    "ib = 1\n",
    "values = (y_data[ib], y_labels[ib])\n",
    "\n",
    "ax = axs[ib]\n",
    "y_values = values[0]\n",
    "df.plot(x=x_data, y=y_values, ax=ax, logy=logy, ylim=(-25, 5))\n",
    "ax.set_ylabel(values[1], fontsize=fontsize)\n",
    "ax.set_xlabel(x_label, fontsize=fontsize)\n",
    "ax.tick_params(width=2, grid_alpha=0.5, labelsize=minor_size, right=True, top=True)\n",
    "\n",
    "ax = axs[1]\n",
    "df.plot(x=x_data, y='loss_va', ax=ax, logy=logy)"
   ]
  },
  {
   "cell_type": "code",
   "execution_count": null,
   "metadata": {},
   "outputs": [],
   "source": [
    "import hadronic_display import Display\n",
    "\n"
   ]
  }
 ],
 "metadata": {
  "kernelspec": {
   "display_name": "NERSC Python",
   "language": "python",
   "name": "python3"
  },
  "language_info": {
   "codemirror_mode": {
    "name": "ipython",
    "version": 3
   },
   "file_extension": ".py",
   "mimetype": "text/x-python",
   "name": "python",
   "nbconvert_exporter": "python",
   "pygments_lexer": "ipython3",
   "version": "3.11.7"
  }
 },
 "nbformat": 4,
 "nbformat_minor": 4
}
