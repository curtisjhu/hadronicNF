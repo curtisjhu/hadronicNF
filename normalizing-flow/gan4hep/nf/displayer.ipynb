{
 "cells": [
  {
   "cell_type": "code",
   "execution_count": 1,
   "id": "d4323abc-c922-4213-b39f-cb94e136eaa3",
   "metadata": {
    "tags": []
   },
   "outputs": [
    {
     "name": "stdout",
     "output_type": "stream",
     "text": [
      "/global/homes/a/achen899/.conda/envs/env_gan/lib/python3.9/site-packages/nvidia/cudnn/__init__.py\n",
      "['/global/u1/a/achen899/normalizing-flow/gan4hep/nf', '/global/homes/a/achen899/.conda/envs/env_gan/lib/python39.zip', '/global/homes/a/achen899/.conda/envs/env_gan/lib/python3.9', '/global/homes/a/achen899/.conda/envs/env_gan/lib/python3.9/lib-dynload', '', '/global/homes/a/achen899/.conda/envs/env_gan/lib/python3.9/site-packages', '/global/u1/a/achen899/normalizing-flow', '/global/homes/a/achen899/.local/perlmutter/3.9-anaconda-2021.11/lib/python3.9/site-packages/']\n"
     ]
    },
    {
     "name": "stderr",
     "output_type": "stream",
     "text": [
      "2023-10-09 14:42:18.024776: I tensorflow/core/platform/cpu_feature_guard.cc:182] This TensorFlow binary is optimized to use available CPU instructions in performance-critical operations.\n",
      "To enable the following instructions: AVX2 FMA, in other operations, rebuild TensorFlow with the appropriate compiler flags.\n",
      "2023-10-09 14:42:19.919175: W tensorflow/compiler/tf2tensorrt/utils/py_utils.cc:38] TF-TRT Warning: Could not find TensorRT\n"
     ]
    },
    {
     "name": "stdout",
     "output_type": "stream",
     "text": [
      "True\n",
      "[PhysicalDevice(name='/physical_device:GPU:0', device_type='GPU')]\n"
     ]
    }
   ],
   "source": [
    "import sys\n",
    "\n",
    "import nvidia.cudnn\n",
    "print(nvidia.cudnn.__file__)\n",
    "sys.path.append('/global/homes/a/achen899/.local/perlmutter/3.9-anaconda-2021.11/lib/python3.9/site-packages/')\n",
    "print(sys.path)\n",
    "\n",
    "import tensorflow as tf\n",
    "\n",
    "print(tf.test.is_built_with_cuda())\n",
    "print(tf.config.list_physical_devices('GPU'))\n"
   ]
  },
  {
   "cell_type": "code",
   "execution_count": 2,
   "id": "16d598e3-dd11-48a2-8e57-e444616624aa",
   "metadata": {
    "tags": []
   },
   "outputs": [
    {
     "name": "stderr",
     "output_type": "stream",
     "text": [
      "2023-10-09 14:42:38.400120: I tensorflow/core/common_runtime/gpu/gpu_device.cc:1639] Created device /job:localhost/replica:0/task:0/device:GPU:0 with 11093 MB memory:  -> device: 0, name: NVIDIA A100-PCIE-40GB, pci bus id: 0000:c3:00.0, compute capability: 8.0\n"
     ]
    },
    {
     "name": "stdout",
     "output_type": "stream",
     "text": [
      "Loading latest checkpoint from: /global/homes/a/achen899/normalizing-flow/train_out/pi_mode_20_bijectors/checkpoints\n",
      "Loaded checkpoint from /global/homes/a/achen899/normalizing-flow/train_out/pi_mode_20_bijectors/checkpoints/ckpt-163\n",
      "Comparison data loaded.\n"
     ]
    }
   ],
   "source": [
    "from hadronic_display import Display\n",
    "\n",
    "mpath = '/global/homes/a/achen899/normalizing-flow/train_out/pi_mode_20_bijectors'\n",
    "cpath = '/global/homes/a/achen899/normalizing-flow/gan4hep/nf/config_nf_hadronic.yml'\n",
    "dpath = '/global/cfs/cdirs/m3443/data/ForHadronic/train_data/pimode/pimode.hkl'\n",
    "\n",
    "hadron_e_display = Display(mpath, cpath, dpath, max_epochs=1200, epoch=163)\n",
    "hadron_e_display.load_comparison(\"/global/cfs/projectdirs/m3443/data/ForHadronic/train_data/pimode/hadron_pi_mode.root\")\n",
    "print(\"Comparison data loaded.\")\n",
    "\n",
    "\n",
    "#CREATE NEW GENERATED DATA\n",
    "# events, counts, g_in = hadron_e_display.generate_events(100000, \"/global/cfs/projectdirs/m3443/data/ForHadronic/train_data/pimode/gen3\", max_parts=40)\n",
    "# print(\"Generated: \", events[0])\n",
    "# hadron_e_display.make_graphs(\"/global/homes/a/achen899/normalizing-flow/gan4hep/nf/hadronic_graph_inv/pi_mode_20_b/med\", scale_by_target=True, use_prop=True)"
   ]
  },
  {
   "cell_type": "code",
   "execution_count": 3,
   "id": "df6178b5-46be-41ba-a692-0cd1b2884f3e",
   "metadata": {
    "tags": []
   },
   "outputs": [],
   "source": [
    "#LOAD PREVIOUSLY GENERATED DATA\n",
    "\n",
    "events, counts, g_in = hadron_e_display.load_gen(\"/global/cfs/projectdirs/m3443/data/ForHadronic/train_data/pimode/gen3\")"
   ]
  },
  {
   "cell_type": "code",
   "execution_count": null,
   "id": "5138a326-c42f-4227-8d46-19ea25240f8f",
   "metadata": {
    "tags": []
   },
   "outputs": [
    {
     "name": "stdout",
     "output_type": "stream",
     "text": [
      "start sample\r"
     ]
    },
    {
     "name": "stderr",
     "output_type": "stream",
     "text": [
      "2023-09-23 16:24:33.201254: I tensorflow/compiler/xla/stream_executor/cuda/cuda_blas.cc:606] TensorFloat-32 will be used for the matrix multiplication. This will only be logged once.\n"
     ]
    },
    {
     "name": "stdout",
     "output_type": "stream",
     "text": [
      "end appendnd972666\r"
     ]
    }
   ],
   "source": [
    "#CREATE SOME PLOTS ABOUT PERFORMANCE\n",
    "\n",
    "hadron_e_display.time_generate_events(\"/pscratch/sd/a/achen899/gen\", 10, \"/global/homes/a/achen899/normalizing-flow/gan4hep/nf/hadronic_graph_inv/pi_mode_20_b/time\", sample_counts=50, mode='per event')"
   ]
  },
  {
   "cell_type": "code",
   "execution_count": 7,
   "id": "9671acfa-c8bc-4cf1-a1f6-601d6474a2c3",
   "metadata": {
    "jupyter": {
     "source_hidden": true
    },
    "tags": []
   },
   "outputs": [],
   "source": [
    "#CREATE SOME PLOTS ABOUT TRAINING\n",
    "\n",
    "from utils_plot_recurrent import plot_logfile\n",
    "plot_logfile(\"/global/homes/a/achen899/normalizing-flow/train_out/hadronic_j/logs/results.txt\", 950, \n",
    "             \"/global/homes/a/achen899/normalizing-flow/gan4hep/nf/hadronic_graph_inv\", \n",
    "             lr_filename=\"/global/homes/a/achen899/normalizing-flow/train_out/hadronic_j/logs/learning_rate.txt\", use_val=True, cutoff=1)"
   ]
  },
  {
   "cell_type": "code",
   "execution_count": 9,
   "id": "5ee316ed-f724-4168-beb2-f9a1f5dfa2ce",
   "metadata": {
    "tags": []
   },
   "outputs": [
    {
     "name": "stdout",
     "output_type": "stream",
     "text": [
      "CMask cleared.\n",
      "GMask cleared.\n",
      "CMask applied.\n",
      "GMask applied.\n",
      "Saved to:  /global/homes/a/achen899/normalizing-flow/gan4hep/nf/hadronic_graph_inv/pi_mode_20_b/med/4k_peak_last/last/prop\n"
     ]
    }
   ],
   "source": [
    "#FILTER DATA AND CREATE SOME PLOTS ABOUT GENERATED AND COMPARISON DATA\n",
    "\n",
    "from utils_plot_recurrent import plot_loss\n",
    "\n",
    "hadron_e_display.clear_cmask()\n",
    "hadron_e_display.clear_gmask()\n",
    "\n",
    "c_mask = [e[-1] > 3500 and e[-1] < 4500 for e in hadron_e_display.c_df[\"particle_E\"]]\n",
    "hadron_e_display.apply_cmask(c_mask)\n",
    "g_mask = [e[-1][1] > 3500 and e[-1][1] < 4500 for e in events]\n",
    "hadron_e_display.apply_gmask(g_mask)\n",
    "\n",
    "# c_mask = [c > 3 for c in hadron_e_display.c_counts]\n",
    "# hadron_e_display.apply_cmask(c_mask)\n",
    "# g_mask = [c > 3 for c in counts]\n",
    "# hadron_e_display.apply_gmask(g_mask)\n",
    "# for p in range(33):\n",
    "#     if p < 9:\n",
    "#         num_str = \"0\" + str(p+1)\n",
    "#     else:\n",
    "#         num_str = str(p+1)\n",
    "hadron_e_display.make_graphs(\"/global/homes/a/achen899/normalizing-flow/gan4hep/nf/hadronic_graph_inv/pi_mode_20_b/med/4k_peak_last/last/prop\", scale_by_target=False, use_prop=True, particle_num=-1, ecut_off=10000)\n",
    "#plot_loss(\"/global/homes/a/achen899/normalizing-flow/train_out/pi_mode_20_bijectors/logs/results.txt\",\n",
    "#                          \"/global/homes/a/achen899/normalizing-flow/gan4hep/nf/hadronic_graph_inv/pi_mode_20_b/163/test\", use_val=True, denoise=10)"
   ]
  }
 ],
 "metadata": {
  "kernelspec": {
   "display_name": "env_gan_g",
   "language": "python",
   "name": "env_gan_g"
  },
  "language_info": {
   "codemirror_mode": {
    "name": "ipython",
    "version": 3
   },
   "file_extension": ".py",
   "mimetype": "text/x-python",
   "name": "python",
   "nbconvert_exporter": "python",
   "pygments_lexer": "ipython3",
   "version": "3.9.17"
  },
  "widgets": {
   "application/vnd.jupyter.widget-state+json": {
    "state": {},
    "version_major": 2,
    "version_minor": 0
   }
  }
 },
 "nbformat": 4,
 "nbformat_minor": 5
}
